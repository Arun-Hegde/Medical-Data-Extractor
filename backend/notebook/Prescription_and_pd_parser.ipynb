{
 "cells": [
  {
   "cell_type": "code",
   "execution_count": 16,
   "id": "0bc87229-4859-4e33-9737-f4e209f24045",
   "metadata": {},
   "outputs": [
    {
     "name": "stdout",
     "output_type": "stream",
     "text": [
      "Requirement already satisfied: pdf2image==1.10.0 in c:\\users\\arunh\\appdata\\local\\programs\\python\\python310\\lib\\site-packages (1.10.0)\n",
      "Requirement already satisfied: pillow in c:\\users\\arunh\\appdata\\local\\programs\\python\\python310\\lib\\site-packages (from pdf2image==1.10.0) (11.1.0)\n",
      "Note: you may need to restart the kernel to use updated packages.\n"
     ]
    }
   ],
   "source": [
    "pip install pdf2image==1.10.0"
   ]
  },
  {
   "cell_type": "code",
   "execution_count": 17,
   "id": "273597a1-f76a-4100-888e-e3f786dd7661",
   "metadata": {},
   "outputs": [],
   "source": [
    "from pdf2image import convert_from_path"
   ]
  },
  {
   "cell_type": "code",
   "execution_count": 19,
   "id": "0ff1d438-710a-4435-80a8-9f8ddb1e99b8",
   "metadata": {},
   "outputs": [],
   "source": [
    "pages = convert_from_path(r'C:\\Users\\arunh\\Code\\Project-Medical-Data-Extraction\\Backend\\resources\\prescription\\pre_2.pdf',poppler_path=r'C:\\poppler-24.08.0\\Library\\bin')"
   ]
  },
  {
   "cell_type": "code",
   "execution_count": 20,
   "id": "0929bef7-0844-46ad-ab68-e372a846886d",
   "metadata": {},
   "outputs": [
    {
     "data": {
      "text/plain": [
       "[<PIL.PpmImagePlugin.PpmImageFile image mode=RGB size=1700x2200>]"
      ]
     },
     "execution_count": 20,
     "metadata": {},
     "output_type": "execute_result"
    }
   ],
   "source": [
    "pages"
   ]
  },
  {
   "cell_type": "code",
   "execution_count": 21,
   "id": "e095ddf9-3807-45b7-8ef3-6b16f191018d",
   "metadata": {},
   "outputs": [
    {
     "data": {
      "text/plain": [
       "1"
      ]
     },
     "execution_count": 21,
     "metadata": {},
     "output_type": "execute_result"
    }
   ],
   "source": [
    "len(pages)"
   ]
  },
  {
   "cell_type": "code",
   "execution_count": 22,
   "id": "4a219665-1d29-4637-a313-c030d42e2d69",
   "metadata": {},
   "outputs": [],
   "source": [
    "pages[0].show()"
   ]
  },
  {
   "cell_type": "code",
   "execution_count": 23,
   "id": "1ec850c8-8037-44eb-8d3b-7dbddd5cb616",
   "metadata": {},
   "outputs": [
    {
     "name": "stdout",
     "output_type": "stream",
     "text": [
      "Requirement already satisfied: pytesseract in c:\\users\\arunh\\appdata\\local\\programs\\python\\python310\\lib\\site-packages (0.3.13)\n",
      "Requirement already satisfied: packaging>=21.3 in c:\\users\\arunh\\appdata\\local\\programs\\python\\python310\\lib\\site-packages (from pytesseract) (24.2)\n",
      "Requirement already satisfied: Pillow>=8.0.0 in c:\\users\\arunh\\appdata\\local\\programs\\python\\python310\\lib\\site-packages (from pytesseract) (11.1.0)\n",
      "Note: you may need to restart the kernel to use updated packages.\n"
     ]
    }
   ],
   "source": [
    "pip install pytesseract"
   ]
  },
  {
   "cell_type": "code",
   "execution_count": 24,
   "id": "c2e33808-c14c-47a6-bcc3-9cd8c977b26b",
   "metadata": {},
   "outputs": [],
   "source": [
    "import pytesseract"
   ]
  },
  {
   "cell_type": "code",
   "execution_count": 25,
   "id": "f7144f4b-259f-410d-afe0-c0d30fcba55d",
   "metadata": {},
   "outputs": [
    {
     "name": "stdout",
     "output_type": "stream",
     "text": [
      "Refill: 3 times\n",
      "\n",
      "\n"
     ]
    }
   ],
   "source": [
    "pytesseract.pytesseract.tesseract_cmd=r'C:\\Program Files\\Tesseract-OCR\\tesseract.exe'\n",
    "text=pytesseract.image_to_string(pages[0],lang='eng')\n",
    "print(text)"
   ]
  },
  {
   "cell_type": "code",
   "execution_count": 26,
   "id": "5b2a1aab-4459-4f78-98c8-5c260c3de577",
   "metadata": {},
   "outputs": [],
   "source": [
    "import numpy as np\n",
    "import cv2\n",
    "from PIL import Image\n",
    "\n",
    "def preprocessing_image(img):\n",
    "    gray = cv2.cvtColor(np.array(img),cv2.COLOR_BGR2GRAY)\n",
    "    resized=cv2.resize(gray,None,fx=1.5,fy=1.5,interpolation=cv2.INTER_LINEAR)\n",
    "    processed_img=cv2.adaptiveThreshold(\n",
    "    resized,255,\n",
    "    cv2.ADAPTIVE_THRESH_GAUSSIAN_C,\n",
    "    cv2.THRESH_BINARY,\n",
    "    61,\n",
    "    10\n",
    ")\n",
    "    return processed_img"
   ]
  },
  {
   "cell_type": "code",
   "execution_count": 27,
   "id": "8c757203-1cca-45d2-a0d9-4671add8f945",
   "metadata": {},
   "outputs": [],
   "source": [
    "img = preprocessing_image(pages[0])\n",
    "Image.fromarray(img).show()"
   ]
  },
  {
   "cell_type": "code",
   "execution_count": 28,
   "id": "9753babc-5c71-4669-9163-4608cca86a94",
   "metadata": {},
   "outputs": [
    {
     "name": "stdout",
     "output_type": "stream",
     "text": [
      "~ DrJohn Smith, M.D\n",
      "\n",
      "2 Non-Important street,\n",
      "New York, Phone (900)-a23- ~2222\n",
      "\n",
      "Name: Virat Kohli Date: 2/05/2022\n",
      "\n",
      "Address: 2 cricket blvd, New Delhi\n",
      "\n",
      "Omeprazole 40 me\n",
      "\n",
      "Directions: Use two tablets daily for three months\n",
      "\n",
      "Refill: 3 times |\n",
      "\n"
     ]
    }
   ],
   "source": [
    "pytesseract.pytesseract.tesseract_cmd=r'C:\\Program Files\\Tesseract-OCR\\tesseract.exe'\n",
    "text=pytesseract.image_to_string(img,lang='eng')\n",
    "print(text)"
   ]
  },
  {
   "cell_type": "code",
   "execution_count": 29,
   "id": "e944e72d-05f7-4ef3-bcb6-bdacfafd7084",
   "metadata": {},
   "outputs": [],
   "source": [
    "import re"
   ]
  },
  {
   "cell_type": "code",
   "execution_count": 3,
   "id": "12c53430-ada4-433f-a14c-03197be956ab",
   "metadata": {},
   "outputs": [],
   "source": [
    "text = '''Name: Marta Sharapova Date: 2/11/2022\n",
    "\n",
    "Address: 9 tennis court, new Russia, DC\n",
    "\n",
    "Prednisone 20 mg\n",
    "Lialda 2.4 gram\n",
    "\n",
    "Directions:\n",
    "Prednisone, Taper 5 mg every 3 days,\n",
    "\n",
    "Finish in 2.5 weeks -\n",
    "Lialda - take 2 pill everyday for 1 month\n",
    "\n",
    "Refill: 2 times\n",
    "\n",
    "'''"
   ]
  },
  {
   "cell_type": "code",
   "execution_count": 4,
   "id": "7446060d-611b-438e-a5c8-6f9fdf391f9b",
   "metadata": {},
   "outputs": [
    {
     "data": {
      "text/plain": [
       "'Marta Sharapova'"
      ]
     },
     "execution_count": 4,
     "metadata": {},
     "output_type": "execute_result"
    }
   ],
   "source": [
    "pattern = 'Name:(.*)Date:'\n",
    "match = re.findall( pattern, text)\n",
    "match[0].strip()"
   ]
  },
  {
   "cell_type": "code",
   "execution_count": 5,
   "id": "b79d9669-4a34-4f41-8c76-1a50193c4f7f",
   "metadata": {},
   "outputs": [
    {
     "data": {
      "text/plain": [
       "'9 tennis court, new Russia, DC'"
      ]
     },
     "execution_count": 5,
     "metadata": {},
     "output_type": "execute_result"
    }
   ],
   "source": [
    "pattern = 'Address:(.*)\\n'\n",
    "match = re.findall( pattern, text)\n",
    "match[0].strip()"
   ]
  },
  {
   "cell_type": "code",
   "execution_count": 6,
   "id": "3ce7f200-2417-453b-8adc-25826b63bd83",
   "metadata": {},
   "outputs": [
    {
     "name": "stdout",
     "output_type": "stream",
     "text": [
      "Prednisone 20 mg\n",
      "Lialda 2.4 gram\n"
     ]
    }
   ],
   "source": [
    "pattern = 'Address:[^\\n]*(.*)Directions:'\n",
    "match = re.findall( pattern, text, flags=re.DOTALL)\n",
    "print(match[0].strip())"
   ]
  },
  {
   "cell_type": "code",
   "execution_count": 7,
   "id": "423b3b65-2a18-4926-8ca5-97c623cd107b",
   "metadata": {},
   "outputs": [
    {
     "name": "stdout",
     "output_type": "stream",
     "text": [
      "Prednisone, Taper 5 mg every 3 days,\n",
      "\n",
      "Finish in 2.5 weeks -\n",
      "Lialda - take 2 pill everyday for 1 month\n"
     ]
    }
   ],
   "source": [
    "pattern = 'Directions:(.*)Refill:'\n",
    "match = re.findall( pattern, text, flags=re.DOTALL)\n",
    "print(match[0].strip())"
   ]
  },
  {
   "cell_type": "code",
   "execution_count": 8,
   "id": "939096b1-c25f-4504-93e9-9813aa3c289b",
   "metadata": {},
   "outputs": [
    {
     "name": "stdout",
     "output_type": "stream",
     "text": [
      "2\n"
     ]
    }
   ],
   "source": [
    "pattern = 'Refill:(.*)times'\n",
    "match = re.findall( pattern, text)\n",
    "print(match[0].strip())"
   ]
  },
  {
   "cell_type": "code",
   "execution_count": 30,
   "id": "bbeaf09d-25c8-4b89-a0b6-832ff7dc47bf",
   "metadata": {},
   "outputs": [],
   "source": [
    "pages = convert_from_path(r'C:\\Users\\arunh\\Code\\Project-Medical-Data-Extraction\\Backend\\resources\\patient_details\\pd_1.pdf',poppler_path=r'C:\\poppler-24.08.0\\Library\\bin')"
   ]
  },
  {
   "cell_type": "code",
   "execution_count": 31,
   "id": "bd41d3ee-b251-4b82-8a65-93dea9f3e4c3",
   "metadata": {},
   "outputs": [
    {
     "name": "stdout",
     "output_type": "stream",
     "text": [
      "47/12/2020\n",
      "\n",
      "Patient Medical Record\n",
      "\n",
      "Patient Information Birth Date\n",
      "Kathy Crawford May 6 1972\n",
      "(737) 988-0851 Weight\n",
      "9264 Ash Dr 95\n",
      "New York City, 10005 .\n",
      "United States Height:\n",
      "190\n",
      "In Case of Emergency\n",
      "m _ a _\n",
      "Simeone Crawford 9266 Ash Dr\n",
      "New York City, New York, 10005\n",
      "Home phone United States\n",
      "(990) 375-4621\n",
      "Work phone\n",
      "Genera! Medical History\n",
      "\n",
      "Chicken Pox (Varicella):\n",
      "\n",
      "IMMUNE\n",
      "\n",
      "Have you had the Hepatitis B vaccination?\n",
      "\n",
      "No\n",
      "\n",
      "List any Medical Problems (asthma, seizures, headaches):\n",
      "\n",
      "Migraine\n",
      "\n"
     ]
    }
   ],
   "source": [
    "pytesseract.pytesseract.tesseract_cmd=r'C:\\Program Files\\Tesseract-OCR\\tesseract.exe'\n",
    "text=pytesseract.image_to_string(pages[0],lang='eng')\n",
    "print(text)"
   ]
  },
  {
   "cell_type": "code",
   "execution_count": 32,
   "id": "0b4ab2ef-3595-4d52-83fe-3ef3bdf01865",
   "metadata": {},
   "outputs": [],
   "source": [
    "import numpy as np\n",
    "import cv2\n",
    "from PIL import Image\n",
    "\n",
    "def preprocessing_image(img):\n",
    "    gray = cv2.cvtColor(np.array(img),cv2.COLOR_BGR2GRAY)\n",
    "    resized=cv2.resize(gray,None,fx=1.5,fy=1.5,interpolation=cv2.INTER_LINEAR)\n",
    "    processed_img=cv2.adaptiveThreshold(\n",
    "    resized,255,\n",
    "    cv2.ADAPTIVE_THRESH_GAUSSIAN_C,\n",
    "    cv2.THRESH_BINARY,\n",
    "    61,\n",
    "    10\n",
    ")\n",
    "    return processed_img"
   ]
  },
  {
   "cell_type": "code",
   "execution_count": 33,
   "id": "a9070153-7e2d-4f34-8d88-1877b287a42c",
   "metadata": {},
   "outputs": [],
   "source": [
    "img = preprocessing_image(pages[0])\n",
    "Image.fromarray(img).show()"
   ]
  },
  {
   "cell_type": "code",
   "execution_count": 34,
   "id": "0f7c8a8f-0b8a-45a0-beb2-2670e435d8a0",
   "metadata": {},
   "outputs": [
    {
     "name": "stdout",
     "output_type": "stream",
     "text": [
      "17/12/2020\n",
      "\n",
      "Patient Medical Record\n",
      "\n",
      "Patient Information Birth Date\n",
      "Kathy Crawford May 6 1972\n",
      "(737) 988-0851 Weight’\n",
      "9264 Ash Dr 95\n",
      "New York City, 10005 ,\n",
      "United States Height:\n",
      "190\n",
      "In Casc of Emergency\n",
      "_ ee\n",
      "Simeone Crawford 9266 Ash Dr\n",
      "New York City, New York, 10005\n",
      "\n",
      "Home phone United States\n",
      "\n",
      "(990) 375-4621\n",
      "Work phone\n",
      "\n",
      "Genera! Medical History\n",
      "a\n",
      "\n",
      "ce cen a PS a\n",
      "\n",
      "eee\n",
      "\n",
      "Chicken Pox (Varicella): Measies:\n",
      "\n",
      "IMMUNE IMMUNE\n",
      "\n",
      "Have you had the Hepatitis B vaccination?\n",
      "\n",
      "No\n",
      "\n",
      "List any Medical Problems (asthma, seizures, headaches}:\n",
      "\n",
      "Migraine\n",
      "\n"
     ]
    }
   ],
   "source": [
    "pytesseract.pytesseract.tesseract_cmd=r'C:\\Program Files\\Tesseract-OCR\\tesseract.exe'\n",
    "text=pytesseract.image_to_string(img,lang='eng')\n",
    "print(text)"
   ]
  },
  {
   "cell_type": "code",
   "execution_count": 108,
   "id": "3aecf336-cc4a-4915-a0e6-f5505de29cd2",
   "metadata": {},
   "outputs": [],
   "source": [
    "text = '''17/12/2020\n",
    "\n",
    "Patient Medical Record\n",
    "\n",
    "Patient Information Birth Date\n",
    "Kathy Crawford May 6 1972\n",
    "(737) 988-0851 Weight’\n",
    "9264 Ash Dr 95\n",
    "New York City, 10005 ,\n",
    "United States Height:\n",
    "190\n",
    "In Casc of Emergency\n",
    "_ ee\n",
    "Simeone Crawford 9266 Ash Dr\n",
    "New York City, New York, 10005\n",
    "\n",
    "Home phone United States\n",
    "\n",
    "(990) 375-4621\n",
    "Work phone\n",
    "\n",
    "Genera! Medical History\n",
    "a\n",
    "\n",
    "ce cen a PS a\n",
    "\n",
    "eee\n",
    "\n",
    "Chicken Pox (Varicella): Measies:\n",
    "\n",
    "IMMUNE IMMUNE\n",
    "\n",
    "Have you had the Hepatitis B vaccination?\n",
    "\n",
    "No\n",
    "\n",
    "List any Medical Problems (asthma, seizures, headaches}:\n",
    "\n",
    "Migraine'''"
   ]
  },
  {
   "cell_type": "code",
   "execution_count": 115,
   "id": "8dd9c39a-7695-4924-af4e-6ede2322c27b",
   "metadata": {},
   "outputs": [
    {
     "name": "stdout",
     "output_type": "stream",
     "text": [
      "['(737) 988-0851', '(990) 375-4621']\n"
     ]
    }
   ],
   "source": [
    "pattern = '(\\(\\d{3}\\) \\d{3}\\-\\d{4})'\n",
    "patient_phone,home_phone = re.findall( pattern, text)\n",
    "print([patient_phone,home_phone])"
   ]
  },
  {
   "cell_type": "code",
   "execution_count": 116,
   "id": "9182d720-b4d1-45d9-b7ff-46aea0c83d01",
   "metadata": {},
   "outputs": [
    {
     "name": "stdout",
     "output_type": "stream",
     "text": [
      "Kathy Crawford\n"
     ]
    }
   ],
   "source": [
    "pattern = r'Patient\\s+Information.*([A-Z][a-z]+(?:\\s[A-Z][a-z]+)+)\\s+(?:Jan|Feb|Mar|Apr|May|Jun|Jul|Aug|Sep|Oct|Nov|Dec)\\s+\\d{1,2}\\s+\\d{4}'\n",
    "match = re.findall( pattern, text, flags=re.DOTALL)\n",
    "print(match[0].strip())"
   ]
  },
  {
   "cell_type": "code",
   "execution_count": 120,
   "id": "d12646c0-5722-4ecc-af47-ef8c0a63faf5",
   "metadata": {},
   "outputs": [
    {
     "name": "stdout",
     "output_type": "stream",
     "text": [
      "No\n"
     ]
    }
   ],
   "source": [
    "pattern = r'Hepatitis.*?(Yes|No)'\n",
    "match = re.findall( pattern, text,flags = re.DOTALL)\n",
    "print(match[0].strip())"
   ]
  },
  {
   "cell_type": "code",
   "execution_count": 118,
   "id": "e7c0d66f-0a2b-44a8-a82d-a8865c3ae834",
   "metadata": {},
   "outputs": [
    {
     "name": "stdout",
     "output_type": "stream",
     "text": [
      "Migraine\n"
     ]
    }
   ],
   "source": [
    "pattern = 'Problems.*\\s*\\n+\\s*(.+)'\n",
    "match = re.findall( pattern, text)\n",
    "print(match[0].strip())"
   ]
  },
  {
   "cell_type": "code",
   "execution_count": 82,
   "id": "058646ba-0e6a-4c4a-92b1-a8bb5eb055a7",
   "metadata": {},
   "outputs": [],
   "source": [
    "pages = convert_from_path(r'C:\\Users\\arunh\\Code\\Project-Medical-Data-Extraction\\Backend\\resources\\patient_details\\pd_2.pdf',poppler_path=r'C:\\poppler-24.08.0\\Library\\bin')"
   ]
  },
  {
   "cell_type": "code",
   "execution_count": 105,
   "id": "8b064b62-0dc2-48dd-8feb-4a450db1c46d",
   "metadata": {},
   "outputs": [],
   "source": [
    "import numpy as np\n",
    "import cv2\n",
    "from PIL import Image\n",
    "\n",
    "def preprocessing_image(img):\n",
    "    gray = cv2.cvtColor(np.array(img),cv2.COLOR_BGR2GRAY)\n",
    "    resized=cv2.resize(gray,None,fx=1.5,fy=1.5,interpolation=cv2.INTER_LINEAR)\n",
    "    processed_img=cv2.adaptiveThreshold(\n",
    "    resized,255,\n",
    "    cv2.ADAPTIVE_THRESH_GAUSSIAN_C,\n",
    "    cv2.THRESH_BINARY,\n",
    "    61,\n",
    "    11\n",
    ")\n",
    "    return processed_img"
   ]
  },
  {
   "cell_type": "code",
   "execution_count": 97,
   "id": "9ab4ae11-b89d-4089-8ec6-858a57f2e4b2",
   "metadata": {},
   "outputs": [],
   "source": [
    "img = preprocessing_image(pages[0])\n",
    "Image.fromarray(img).show()"
   ]
  },
  {
   "cell_type": "code",
   "execution_count": 106,
   "id": "2a1e53b0-75af-4403-91ff-73b7fad52537",
   "metadata": {},
   "outputs": [
    {
     "name": "stdout",
     "output_type": "stream",
     "text": [
      "17/12/2020\n",
      "\n",
      "Patient Medical Record\n",
      "\n",
      "Patient Information Birth Date\n",
      "\n",
      "Jerry Lucas May 2 1998\n",
      "\n",
      "(279) 920-8204 . Weight:\n",
      "\n",
      "4218 Wheeler Ridge Dr 57\n",
      "\n",
      "Buffalo, New York, 14201 Height:\n",
      "\n",
      "United States ght.\n",
      "170\n",
      "\n",
      "In Case of Emergency\n",
      "meee\n",
      "\n",
      "Joe Lucas 4218 Wheeler Ridge Dr\n",
      "Buffalo, New York, 14201\n",
      "Home phone . United States\n",
      "Work phone\n",
      "\n",
      "General Medical History\n",
      "\n",
      "Chicken Pox (Varicelia): Measles:\n",
      "\n",
      "IMMUNE NOT IMMUNE\n",
      "\n",
      "Have you had the Hepatitis B vaccination?\n",
      "\n",
      "_ Yes\n",
      "\n",
      "List any Medical Problems (asthma, seizures, headaches):\n",
      "N/A\n",
      "\n"
     ]
    }
   ],
   "source": [
    "pytesseract.pytesseract.tesseract_cmd=r'C:\\Program Files\\Tesseract-OCR\\tesseract.exe'\n",
    "text=pytesseract.image_to_string(img,lang='eng')\n",
    "print(text)"
   ]
  },
  {
   "cell_type": "code",
   "execution_count": null,
   "id": "ae2c3c9a-78a9-466d-8c6d-30d99ad61887",
   "metadata": {},
   "outputs": [],
   "source": []
  }
 ],
 "metadata": {
  "kernelspec": {
   "display_name": "Python 3 (ipykernel)",
   "language": "python",
   "name": "python3"
  },
  "language_info": {
   "codemirror_mode": {
    "name": "ipython",
    "version": 3
   },
   "file_extension": ".py",
   "mimetype": "text/x-python",
   "name": "python",
   "nbconvert_exporter": "python",
   "pygments_lexer": "ipython3",
   "version": "3.10.11"
  }
 },
 "nbformat": 4,
 "nbformat_minor": 5
}
